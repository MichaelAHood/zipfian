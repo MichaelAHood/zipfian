{
 "metadata": {
  "name": "",
  "signature": "sha256:ed8e6551a94de470cb7d62a872a6ac16e6fd35220f71bfcf179808c36e78e684"
 },
 "nbformat": 3,
 "nbformat_minor": 0,
 "worksheets": [
  {
   "cells": [
    {
     "cell_type": "code",
     "collapsed": false,
     "input": [
      "#Write a program that counts the numbers from 3 to 117. \n",
      "#But for multiples of three add 3 instead of 1 and for the multiples of five add 5 instead of 1. \n",
      "#For numbers which are multiples of both three and five add 15 instead of 1. \n",
      "\n",
      "#Ex: If we are looking at numbers 5 to 15 (inclusive), the program would output 39 *"
     ],
     "language": "python",
     "metadata": {},
     "outputs": [],
     "prompt_number": 1
    },
    {
     "cell_type": "code",
     "collapsed": false,
     "input": [
      "def goofyCount(first_num, last_num): \n",
      "    \n",
      "    counter = 0\n",
      "    \n",
      "    for i in range(first_num, last_num + 1): #  \"last_num + 1\" to ensure that we are using an inclusive range\n",
      "        \n",
      "        if (i % 3 == 0) and (i % 5 == 0): # multiples of both 3 and 5 are the most restrictive condition and should be checked for first\n",
      "            counter += 15\n",
      "        \n",
      "        elif i % 3 == 0:\n",
      "            counter += 3\n",
      "\n",
      "        elif i % 5 == 0:\n",
      "            counter += 5\n",
      "            \n",
      "        else:\n",
      "            counter += 1 # this is the default condition if none of the above conditions apply \n",
      "    \n",
      "    return counter\n",
      "        \n",
      "def test():\n",
      "    assert goofyCount(5, 15) == 39, \"The program is not counting correctly\"\n",
      "    assert goofyCount(1, 45) == 135, \"The program is not counting correctly\"\n",
      "    assert goofyCount(3, 37) == 103, \"The program is not counting correctly\"\n"
     ],
     "language": "python",
     "metadata": {},
     "outputs": [],
     "prompt_number": 48
    },
    {
     "cell_type": "code",
     "collapsed": false,
     "input": [
      "test()\n",
      "print goofyCount(3, 117)"
     ],
     "language": "python",
     "metadata": {},
     "outputs": [
      {
       "output_type": "stream",
       "stream": "stdout",
       "text": [
        "341\n"
       ]
      }
     ],
     "prompt_number": 47
    }
   ],
   "metadata": {}
  }
 ]
}